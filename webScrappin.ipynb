{
 "cells": [
  {
   "cell_type": "code",
   "execution_count": 37,
   "id": "9cb715ef-0ce1-4225-ac52-ffac70562297",
   "metadata": {},
   "outputs": [],
   "source": [
    "import requests\n",
    "from bs4 import  BeautifulSoup as bs\n",
    "from urllib.request import urlopen\n",
    "import logging"
   ]
  },
  {
   "cell_type": "code",
   "execution_count": 38,
   "id": "78a65b0c-b48a-4667-bfa4-1b32f30ab6b9",
   "metadata": {},
   "outputs": [],
   "source": [
    "url = \"https://webscraper.io/test-sites/e-commerce/allinone/computers/\"+\"tablets\""
   ]
  },
  {
   "cell_type": "code",
   "execution_count": 39,
   "id": "ca76c80f-7a97-4215-b50c-04cb224becdb",
   "metadata": {},
   "outputs": [
    {
     "data": {
      "text/plain": [
       "'https://webscraper.io/test-sites/e-commerce/allinone/computers/tablets'"
      ]
     },
     "execution_count": 39,
     "metadata": {},
     "output_type": "execute_result"
    }
   ],
   "source": [
    "url"
   ]
  },
  {
   "cell_type": "code",
   "execution_count": 40,
   "id": "d04a03da-d610-494c-aa8e-41f7cc051973",
   "metadata": {},
   "outputs": [],
   "source": [
    "urlclient =urlopen(url)"
   ]
  },
  {
   "cell_type": "code",
   "execution_count": 41,
   "id": "f0157231-5145-4a30-ba2b-1b255ae44458",
   "metadata": {},
   "outputs": [],
   "source": [
    "urlclient =urlopen(url)"
   ]
  },
  {
   "cell_type": "code",
   "execution_count": 42,
   "id": "a9ec60ea-21ba-4d44-8f2e-24aca95ae192",
   "metadata": {},
   "outputs": [
    {
     "data": {
      "text/plain": [
       "<http.client.HTTPResponse at 0x7fb076e5b4c0>"
      ]
     },
     "execution_count": 42,
     "metadata": {},
     "output_type": "execute_result"
    }
   ],
   "source": [
    "urlclient"
   ]
  },
  {
   "cell_type": "code",
   "execution_count": 43,
   "id": "9a0220b5-52db-4c1e-835b-e71177eb8b3a",
   "metadata": {},
   "outputs": [],
   "source": [
    "test_page = urlclient.read()"
   ]
  },
  {
   "cell_type": "code",
   "execution_count": 44,
   "id": "89616b62-e580-4b96-827c-44cacb0c8163",
   "metadata": {},
   "outputs": [],
   "source": [
    "test_page_html = bs(test_page,'html.parser')"
   ]
  },
  {
   "cell_type": "code",
   "execution_count": 83,
   "id": "45a81241-5105-4c36-8515-f1afa0be4b2a",
   "metadata": {},
   "outputs": [
    {
     "data": {
      "text/plain": [
       "'https://webscraper.io/test-sites/e-commerce/allinone/product/10'"
      ]
     },
     "execution_count": 83,
     "metadata": {},
     "output_type": "execute_result"
    }
   ],
   "source": [
    "\"https://webscraper.io\" + \"/test-sites/e-commerce/allinone/product/10\""
   ]
  },
  {
   "cell_type": "code",
   "execution_count": 84,
   "id": "59a4989b-6e84-4607-9fef-9aeefb95300a",
   "metadata": {},
   "outputs": [],
   "source": [
    "bigbox = test_page_html.find_all(\"div\",class_=\"col-md-4 col-xl-4 col-lg-4\")"
   ]
  },
  {
   "cell_type": "code",
   "execution_count": 85,
   "id": "6106a311-a0fb-4507-a18a-db6212ef242c",
   "metadata": {},
   "outputs": [
    {
     "data": {
      "text/plain": [
       "[<div class=\"col-md-4 col-xl-4 col-lg-4\">\n",
       " <div class=\"card product-wrapper thumbnail\">\n",
       " <div class=\"card-body\">\n",
       " <img alt=\"item\" class=\"img-fluid card-img-top image img-responsive\" src=\"/images/test-sites/e-commerce/items/cart2.png\"/>\n",
       " <div class=\"caption\">\n",
       " <h4 class=\"float-end price card-title pull-right\">$69.99</h4>\n",
       " <h4>\n",
       " <a class=\"title\" href=\"/test-sites/e-commerce/allinone/product/10\" title=\"Lenovo IdeaTab\">Lenovo IdeaTab</a>\n",
       " </h4>\n",
       " <p class=\"description card-text\">7\" screen, Android</p>\n",
       " </div>\n",
       " <div class=\"ratings\">\n",
       " <p class=\"float-end review-count\">7 reviews</p>\n",
       " <p data-rating=\"3\">\n",
       " <span class=\"ws-icon ws-icon-star\"></span>\n",
       " <span class=\"ws-icon ws-icon-star\"></span>\n",
       " <span class=\"ws-icon ws-icon-star\"></span>\n",
       " </p>\n",
       " </div>\n",
       " </div>\n",
       " </div>\n",
       " </div>,\n",
       " <div class=\"col-md-4 col-xl-4 col-lg-4\">\n",
       " <div class=\"card product-wrapper thumbnail\">\n",
       " <div class=\"card-body\">\n",
       " <img alt=\"item\" class=\"img-fluid card-img-top image img-responsive\" src=\"/images/test-sites/e-commerce/items/cart2.png\"/>\n",
       " <div class=\"caption\">\n",
       " <h4 class=\"float-end price card-title pull-right\">$88.99</h4>\n",
       " <h4>\n",
       " <a class=\"title\" href=\"/test-sites/e-commerce/allinone/product/15\" title=\"IdeaTab A3500L\">IdeaTab A3500L</a>\n",
       " </h4>\n",
       " <p class=\"description card-text\">Black, 7\" IPS, Quad-Core 1.2GHz, 8GB, Android 4.2</p>\n",
       " </div>\n",
       " <div class=\"ratings\">\n",
       " <p class=\"float-end review-count\">7 reviews</p>\n",
       " <p data-rating=\"4\">\n",
       " <span class=\"ws-icon ws-icon-star\"></span>\n",
       " <span class=\"ws-icon ws-icon-star\"></span>\n",
       " <span class=\"ws-icon ws-icon-star\"></span>\n",
       " <span class=\"ws-icon ws-icon-star\"></span>\n",
       " </p>\n",
       " </div>\n",
       " </div>\n",
       " </div>\n",
       " </div>,\n",
       " <div class=\"col-md-4 col-xl-4 col-lg-4\">\n",
       " <div class=\"card product-wrapper thumbnail\">\n",
       " <div class=\"card-body\">\n",
       " <img alt=\"item\" class=\"img-fluid card-img-top image img-responsive\" src=\"/images/test-sites/e-commerce/items/cart2.png\"/>\n",
       " <div class=\"caption\">\n",
       " <h4 class=\"float-end price card-title pull-right\">$96.99</h4>\n",
       " <h4>\n",
       " <a class=\"title\" href=\"/test-sites/e-commerce/allinone/product/11\" title=\"Acer Iconia\">Acer Iconia</a>\n",
       " </h4>\n",
       " <p class=\"description card-text\">7\" screen, Android, 16GB</p>\n",
       " </div>\n",
       " <div class=\"ratings\">\n",
       " <p class=\"float-end review-count\">7 reviews</p>\n",
       " <p data-rating=\"1\">\n",
       " <span class=\"ws-icon ws-icon-star\"></span>\n",
       " </p>\n",
       " </div>\n",
       " </div>\n",
       " </div>\n",
       " </div>,\n",
       " <div class=\"col-md-4 col-xl-4 col-lg-4\">\n",
       " <div class=\"card product-wrapper thumbnail\">\n",
       " <div class=\"card-body\">\n",
       " <img alt=\"item\" class=\"img-fluid card-img-top image img-responsive\" src=\"/images/test-sites/e-commerce/items/cart2.png\"/>\n",
       " <div class=\"caption\">\n",
       " <h4 class=\"float-end price card-title pull-right\">$97.99</h4>\n",
       " <h4>\n",
       " <a class=\"title\" href=\"/test-sites/e-commerce/allinone/product/18\" title=\"Galaxy Tab 3\">Galaxy Tab 3</a>\n",
       " </h4>\n",
       " <p class=\"description card-text\">7\", 8GB, Wi-Fi, Android 4.2, White</p>\n",
       " </div>\n",
       " <div class=\"ratings\">\n",
       " <p class=\"float-end review-count\">2 reviews</p>\n",
       " <p data-rating=\"2\">\n",
       " <span class=\"ws-icon ws-icon-star\"></span>\n",
       " <span class=\"ws-icon ws-icon-star\"></span>\n",
       " </p>\n",
       " </div>\n",
       " </div>\n",
       " </div>\n",
       " </div>,\n",
       " <div class=\"col-md-4 col-xl-4 col-lg-4\">\n",
       " <div class=\"card product-wrapper thumbnail\">\n",
       " <div class=\"card-body\">\n",
       " <img alt=\"item\" class=\"img-fluid card-img-top image img-responsive\" src=\"/images/test-sites/e-commerce/items/cart2.png\"/>\n",
       " <div class=\"caption\">\n",
       " <h4 class=\"float-end price card-title pull-right\">$99.99</h4>\n",
       " <h4>\n",
       " <a class=\"title\" href=\"/test-sites/e-commerce/allinone/product/27\" title=\"Iconia B1-730HD\">Iconia B1-730H...</a>\n",
       " </h4>\n",
       " <p class=\"description card-text\">Black, 7\", 1.6GHz Dual-Core, 8GB, Android 4.4</p>\n",
       " </div>\n",
       " <div class=\"ratings\">\n",
       " <p class=\"float-end review-count\">1 reviews</p>\n",
       " <p data-rating=\"3\">\n",
       " <span class=\"ws-icon ws-icon-star\"></span>\n",
       " <span class=\"ws-icon ws-icon-star\"></span>\n",
       " <span class=\"ws-icon ws-icon-star\"></span>\n",
       " </p>\n",
       " </div>\n",
       " </div>\n",
       " </div>\n",
       " </div>,\n",
       " <div class=\"col-md-4 col-xl-4 col-lg-4\">\n",
       " <div class=\"card product-wrapper thumbnail\">\n",
       " <div class=\"card-body\">\n",
       " <img alt=\"item\" class=\"img-fluid card-img-top image img-responsive\" src=\"/images/test-sites/e-commerce/items/cart2.png\"/>\n",
       " <div class=\"caption\">\n",
       " <h4 class=\"float-end price card-title pull-right\">$101.99</h4>\n",
       " <h4>\n",
       " <a class=\"title\" href=\"/test-sites/e-commerce/allinone/product/23\" title=\"Memo Pad HD 7\">Memo Pad HD 7</a>\n",
       " </h4>\n",
       " <p class=\"description card-text\">IPS, Dual-Core 1.2GHz, 8GB, Android 4.3</p>\n",
       " </div>\n",
       " <div class=\"ratings\">\n",
       " <p class=\"float-end review-count\">10 reviews</p>\n",
       " <p data-rating=\"2\">\n",
       " <span class=\"ws-icon ws-icon-star\"></span>\n",
       " <span class=\"ws-icon ws-icon-star\"></span>\n",
       " </p>\n",
       " </div>\n",
       " </div>\n",
       " </div>\n",
       " </div>,\n",
       " <div class=\"col-md-4 col-xl-4 col-lg-4\">\n",
       " <div class=\"card product-wrapper thumbnail\">\n",
       " <div class=\"card-body\">\n",
       " <img alt=\"item\" class=\"img-fluid card-img-top image img-responsive\" src=\"/images/test-sites/e-commerce/items/cart2.png\"/>\n",
       " <div class=\"caption\">\n",
       " <h4 class=\"float-end price card-title pull-right\">$102.99</h4>\n",
       " <h4>\n",
       " <a class=\"title\" href=\"/test-sites/e-commerce/allinone/product/12\" title=\"Asus MeMO Pad\">Asus MeMO Pad</a>\n",
       " </h4>\n",
       " <p class=\"description card-text\">7\" screen, Android, 8GB</p>\n",
       " </div>\n",
       " <div class=\"ratings\">\n",
       " <p class=\"float-end review-count\">14 reviews</p>\n",
       " <p data-rating=\"4\">\n",
       " <span class=\"ws-icon ws-icon-star\"></span>\n",
       " <span class=\"ws-icon ws-icon-star\"></span>\n",
       " <span class=\"ws-icon ws-icon-star\"></span>\n",
       " <span class=\"ws-icon ws-icon-star\"></span>\n",
       " </p>\n",
       " </div>\n",
       " </div>\n",
       " </div>\n",
       " </div>,\n",
       " <div class=\"col-md-4 col-xl-4 col-lg-4\">\n",
       " <div class=\"card product-wrapper thumbnail\">\n",
       " <div class=\"card-body\">\n",
       " <img alt=\"item\" class=\"img-fluid card-img-top image img-responsive\" src=\"/images/test-sites/e-commerce/items/cart2.png\"/>\n",
       " <div class=\"caption\">\n",
       " <h4 class=\"float-end price card-title pull-right\">$103.99</h4>\n",
       " <h4>\n",
       " <a class=\"title\" href=\"/test-sites/e-commerce/allinone/product/13\" title=\"Amazon Kindle\">Amazon Kindle</a>\n",
       " </h4>\n",
       " <p class=\"description card-text\">6\" screen, wifi</p>\n",
       " </div>\n",
       " <div class=\"ratings\">\n",
       " <p class=\"float-end review-count\">3 reviews</p>\n",
       " <p data-rating=\"4\">\n",
       " <span class=\"ws-icon ws-icon-star\"></span>\n",
       " <span class=\"ws-icon ws-icon-star\"></span>\n",
       " <span class=\"ws-icon ws-icon-star\"></span>\n",
       " <span class=\"ws-icon ws-icon-star\"></span>\n",
       " </p>\n",
       " </div>\n",
       " </div>\n",
       " </div>\n",
       " </div>,\n",
       " <div class=\"col-md-4 col-xl-4 col-lg-4\">\n",
       " <div class=\"card product-wrapper thumbnail\">\n",
       " <div class=\"card-body\">\n",
       " <img alt=\"item\" class=\"img-fluid card-img-top image img-responsive\" src=\"/images/test-sites/e-commerce/items/cart2.png\"/>\n",
       " <div class=\"caption\">\n",
       " <h4 class=\"float-end price card-title pull-right\">$107.99</h4>\n",
       " <h4>\n",
       " <a class=\"title\" href=\"/test-sites/e-commerce/allinone/product/22\" title=\"Galaxy Tab 3\">Galaxy Tab 3</a>\n",
       " </h4>\n",
       " <p class=\"description card-text\">7\", 8GB, Wi-Fi, Android 4.2, Yellow</p>\n",
       " </div>\n",
       " <div class=\"ratings\">\n",
       " <p class=\"float-end review-count\">14 reviews</p>\n",
       " <p data-rating=\"2\">\n",
       " <span class=\"ws-icon ws-icon-star\"></span>\n",
       " <span class=\"ws-icon ws-icon-star\"></span>\n",
       " </p>\n",
       " </div>\n",
       " </div>\n",
       " </div>\n",
       " </div>,\n",
       " <div class=\"col-md-4 col-xl-4 col-lg-4\">\n",
       " <div class=\"card product-wrapper thumbnail\">\n",
       " <div class=\"card-body\">\n",
       " <img alt=\"item\" class=\"img-fluid card-img-top image img-responsive\" src=\"/images/test-sites/e-commerce/items/cart2.png\"/>\n",
       " <div class=\"caption\">\n",
       " <h4 class=\"float-end price card-title pull-right\">$121.99</h4>\n",
       " <h4>\n",
       " <a class=\"title\" href=\"/test-sites/e-commerce/allinone/product/28\" title=\"IdeaTab A8-50\">IdeaTab A8-50</a>\n",
       " </h4>\n",
       " <p class=\"description card-text\">Blue, 8\" IPS, Quad-Core 1.3GHz, 16GB, Android 4.2</p>\n",
       " </div>\n",
       " <div class=\"ratings\">\n",
       " <p class=\"float-end review-count\">13 reviews</p>\n",
       " <p data-rating=\"2\">\n",
       " <span class=\"ws-icon ws-icon-star\"></span>\n",
       " <span class=\"ws-icon ws-icon-star\"></span>\n",
       " </p>\n",
       " </div>\n",
       " </div>\n",
       " </div>\n",
       " </div>,\n",
       " <div class=\"col-md-4 col-xl-4 col-lg-4\">\n",
       " <div class=\"card product-wrapper thumbnail\">\n",
       " <div class=\"card-body\">\n",
       " <img alt=\"item\" class=\"img-fluid card-img-top image img-responsive\" src=\"/images/test-sites/e-commerce/items/cart2.png\"/>\n",
       " <div class=\"caption\">\n",
       " <h4 class=\"float-end price card-title pull-right\">$130.99</h4>\n",
       " <h4>\n",
       " <a class=\"title\" href=\"/test-sites/e-commerce/allinone/product/20\" title=\"MeMO Pad 7\">MeMO Pad 7</a>\n",
       " </h4>\n",
       " <p class=\"description card-text\">White, 7\", Atom 1.2GHz, 8GB, Android 4.4</p>\n",
       " </div>\n",
       " <div class=\"ratings\">\n",
       " <p class=\"float-end review-count\">11 reviews</p>\n",
       " <p data-rating=\"1\">\n",
       " <span class=\"ws-icon ws-icon-star\"></span>\n",
       " </p>\n",
       " </div>\n",
       " </div>\n",
       " </div>\n",
       " </div>,\n",
       " <div class=\"col-md-4 col-xl-4 col-lg-4\">\n",
       " <div class=\"card product-wrapper thumbnail\">\n",
       " <div class=\"card-body\">\n",
       " <img alt=\"item\" class=\"img-fluid card-img-top image img-responsive\" src=\"/images/test-sites/e-commerce/items/cart2.png\"/>\n",
       " <div class=\"caption\">\n",
       " <h4 class=\"float-end price card-title pull-right\">$148.99</h4>\n",
       " <h4>\n",
       " <a class=\"title\" href=\"/test-sites/e-commerce/allinone/product/17\" title=\"IdeaTab A3500-H\">IdeaTab A3500-...</a>\n",
       " </h4>\n",
       " <p class=\"description card-text\">Blue, 7\" IPS, Quad-Core 1.3GHz, 8GB, 3G, Android 4.2</p>\n",
       " </div>\n",
       " <div class=\"ratings\">\n",
       " <p class=\"float-end review-count\">9 reviews</p>\n",
       " <p data-rating=\"2\">\n",
       " <span class=\"ws-icon ws-icon-star\"></span>\n",
       " <span class=\"ws-icon ws-icon-star\"></span>\n",
       " </p>\n",
       " </div>\n",
       " </div>\n",
       " </div>\n",
       " </div>,\n",
       " <div class=\"col-md-4 col-xl-4 col-lg-4\">\n",
       " <div class=\"card product-wrapper thumbnail\">\n",
       " <div class=\"card-body\">\n",
       " <img alt=\"item\" class=\"img-fluid card-img-top image img-responsive\" src=\"/images/test-sites/e-commerce/items/cart2.png\"/>\n",
       " <div class=\"caption\">\n",
       " <h4 class=\"float-end price card-title pull-right\">$172.99</h4>\n",
       " <h4>\n",
       " <a class=\"title\" href=\"/test-sites/e-commerce/allinone/product/26\" title=\"IdeaTab S5000\">IdeaTab S5000</a>\n",
       " </h4>\n",
       " <p class=\"description card-text\">Silver, 7\" IPS, Quad-Core 1.2Ghz, 16GB, 3G, Android 4.2</p>\n",
       " </div>\n",
       " <div class=\"ratings\">\n",
       " <p class=\"float-end review-count\">8 reviews</p>\n",
       " <p data-rating=\"3\">\n",
       " <span class=\"ws-icon ws-icon-star\"></span>\n",
       " <span class=\"ws-icon ws-icon-star\"></span>\n",
       " <span class=\"ws-icon ws-icon-star\"></span>\n",
       " </p>\n",
       " </div>\n",
       " </div>\n",
       " </div>\n",
       " </div>,\n",
       " <div class=\"col-md-4 col-xl-4 col-lg-4\">\n",
       " <div class=\"card product-wrapper thumbnail\">\n",
       " <div class=\"card-body\">\n",
       " <img alt=\"item\" class=\"img-fluid card-img-top image img-responsive\" src=\"/images/test-sites/e-commerce/items/cart2.png\"/>\n",
       " <div class=\"caption\">\n",
       " <h4 class=\"float-end price card-title pull-right\">$233.99</h4>\n",
       " <h4>\n",
       " <a class=\"title\" href=\"/test-sites/e-commerce/allinone/product/21\" title=\"Galaxy Tab 4\">Galaxy Tab 4</a>\n",
       " </h4>\n",
       " <p class=\"description card-text\">LTE (SM-T235), Quad-Core 1.2GHz, 8GB, Black</p>\n",
       " </div>\n",
       " <div class=\"ratings\">\n",
       " <p class=\"float-end review-count\">1 reviews</p>\n",
       " <p data-rating=\"4\">\n",
       " <span class=\"ws-icon ws-icon-star\"></span>\n",
       " <span class=\"ws-icon ws-icon-star\"></span>\n",
       " <span class=\"ws-icon ws-icon-star\"></span>\n",
       " <span class=\"ws-icon ws-icon-star\"></span>\n",
       " </p>\n",
       " </div>\n",
       " </div>\n",
       " </div>\n",
       " </div>,\n",
       " <div class=\"col-md-4 col-xl-4 col-lg-4\">\n",
       " <div class=\"card product-wrapper thumbnail\">\n",
       " <div class=\"card-body\">\n",
       " <img alt=\"item\" class=\"img-fluid card-img-top image img-responsive\" src=\"/images/test-sites/e-commerce/items/cart2.png\"/>\n",
       " <div class=\"caption\">\n",
       " <h4 class=\"float-end price card-title pull-right\">$251.99</h4>\n",
       " <h4>\n",
       " <a class=\"title\" href=\"/test-sites/e-commerce/allinone/product/16\" title=\"Galaxy Tab\">Galaxy Tab</a>\n",
       " </h4>\n",
       " <p class=\"description card-text\">16GB, White</p>\n",
       " </div>\n",
       " <div class=\"ratings\">\n",
       " <p class=\"float-end review-count\">14 reviews</p>\n",
       " <p data-rating=\"3\">\n",
       " <span class=\"ws-icon ws-icon-star\"></span>\n",
       " <span class=\"ws-icon ws-icon-star\"></span>\n",
       " <span class=\"ws-icon ws-icon-star\"></span>\n",
       " </p>\n",
       " </div>\n",
       " </div>\n",
       " </div>\n",
       " </div>,\n",
       " <div class=\"col-md-4 col-xl-4 col-lg-4\">\n",
       " <div class=\"card product-wrapper thumbnail\">\n",
       " <div class=\"card-body\">\n",
       " <img alt=\"item\" class=\"img-fluid card-img-top image img-responsive\" src=\"/images/test-sites/e-commerce/items/cart2.png\"/>\n",
       " <div class=\"caption\">\n",
       " <h4 class=\"float-end price card-title pull-right\">$320.99</h4>\n",
       " <h4>\n",
       " <a class=\"title\" href=\"/test-sites/e-commerce/allinone/product/25\" title=\"MeMo PAD FHD 10\">MeMo PAD FHD 1...</a>\n",
       " </h4>\n",
       " <p class=\"description card-text\">White, 10.1\" IPS, 1.6GHz, 2GB, 16GB, Android 4.2</p>\n",
       " </div>\n",
       " <div class=\"ratings\">\n",
       " <p class=\"float-end review-count\">7 reviews</p>\n",
       " <p data-rating=\"2\">\n",
       " <span class=\"ws-icon ws-icon-star\"></span>\n",
       " <span class=\"ws-icon ws-icon-star\"></span>\n",
       " </p>\n",
       " </div>\n",
       " </div>\n",
       " </div>\n",
       " </div>,\n",
       " <div class=\"col-md-4 col-xl-4 col-lg-4\">\n",
       " <div class=\"card product-wrapper thumbnail\">\n",
       " <div class=\"card-body\">\n",
       " <img alt=\"item\" class=\"img-fluid card-img-top image img-responsive\" src=\"/images/test-sites/e-commerce/items/cart2.png\"/>\n",
       " <div class=\"caption\">\n",
       " <h4 class=\"float-end price card-title pull-right\">$399.99</h4>\n",
       " <h4>\n",
       " <a class=\"title\" href=\"/test-sites/e-commerce/allinone/product/29\" title=\"Galaxy Note\">Galaxy Note</a>\n",
       " </h4>\n",
       " <p class=\"description card-text\">10.1\", 3G, Android 4.0, Garnet Red</p>\n",
       " </div>\n",
       " <div class=\"ratings\">\n",
       " <p class=\"float-end review-count\">12 reviews</p>\n",
       " <p data-rating=\"4\">\n",
       " <span class=\"ws-icon ws-icon-star\"></span>\n",
       " <span class=\"ws-icon ws-icon-star\"></span>\n",
       " <span class=\"ws-icon ws-icon-star\"></span>\n",
       " <span class=\"ws-icon ws-icon-star\"></span>\n",
       " </p>\n",
       " </div>\n",
       " </div>\n",
       " </div>\n",
       " </div>,\n",
       " <div class=\"col-md-4 col-xl-4 col-lg-4\">\n",
       " <div class=\"card product-wrapper thumbnail\">\n",
       " <div class=\"card-body\">\n",
       " <img alt=\"item\" class=\"img-fluid card-img-top image img-responsive\" src=\"/images/test-sites/e-commerce/items/cart2.png\"/>\n",
       " <div class=\"caption\">\n",
       " <h4 class=\"float-end price card-title pull-right\">$489.99</h4>\n",
       " <h4>\n",
       " <a class=\"title\" href=\"/test-sites/e-commerce/allinone/product/19\" title=\"Galaxy Note\">Galaxy Note</a>\n",
       " </h4>\n",
       " <p class=\"description card-text\">12.2\", 32GB, WiFi, Android 4.4, White</p>\n",
       " </div>\n",
       " <div class=\"ratings\">\n",
       " <p class=\"float-end review-count\">9 reviews</p>\n",
       " <p data-rating=\"3\">\n",
       " <span class=\"ws-icon ws-icon-star\"></span>\n",
       " <span class=\"ws-icon ws-icon-star\"></span>\n",
       " <span class=\"ws-icon ws-icon-star\"></span>\n",
       " </p>\n",
       " </div>\n",
       " </div>\n",
       " </div>\n",
       " </div>,\n",
       " <div class=\"col-md-4 col-xl-4 col-lg-4\">\n",
       " <div class=\"card product-wrapper thumbnail\">\n",
       " <div class=\"card-body\">\n",
       " <img alt=\"item\" class=\"img-fluid card-img-top image img-responsive\" src=\"/images/test-sites/e-commerce/items/cart2.png\"/>\n",
       " <div class=\"caption\">\n",
       " <h4 class=\"float-end price card-title pull-right\">$537.99</h4>\n",
       " <h4>\n",
       " <a class=\"title\" href=\"/test-sites/e-commerce/allinone/product/14\" title=\"iPad Mini Retina\">iPad Mini Reti...</a>\n",
       " </h4>\n",
       " <p class=\"description card-text\">Wi-Fi + Cellular, 32GB, Silver</p>\n",
       " </div>\n",
       " <div class=\"ratings\">\n",
       " <p class=\"float-end review-count\">8 reviews</p>\n",
       " <p data-rating=\"2\">\n",
       " <span class=\"ws-icon ws-icon-star\"></span>\n",
       " <span class=\"ws-icon ws-icon-star\"></span>\n",
       " </p>\n",
       " </div>\n",
       " </div>\n",
       " </div>\n",
       " </div>,\n",
       " <div class=\"col-md-4 col-xl-4 col-lg-4\">\n",
       " <div class=\"card product-wrapper thumbnail\">\n",
       " <div class=\"card-body\">\n",
       " <img alt=\"item\" class=\"img-fluid card-img-top image img-responsive\" src=\"/images/test-sites/e-commerce/items/cart2.png\"/>\n",
       " <div class=\"caption\">\n",
       " <h4 class=\"float-end price card-title pull-right\">$587.99</h4>\n",
       " <h4>\n",
       " <a class=\"title\" href=\"/test-sites/e-commerce/allinone/product/24\" title=\"Galaxy Note 10.1\">Galaxy Note 10...</a>\n",
       " </h4>\n",
       " <p class=\"description card-text\">10.1\", 32GB, Black</p>\n",
       " </div>\n",
       " <div class=\"ratings\">\n",
       " <p class=\"float-end review-count\">6 reviews</p>\n",
       " <p data-rating=\"2\">\n",
       " <span class=\"ws-icon ws-icon-star\"></span>\n",
       " <span class=\"ws-icon ws-icon-star\"></span>\n",
       " </p>\n",
       " </div>\n",
       " </div>\n",
       " </div>\n",
       " </div>,\n",
       " <div class=\"col-md-4 col-xl-4 col-lg-4\">\n",
       " <div class=\"card product-wrapper thumbnail\">\n",
       " <div class=\"card-body\">\n",
       " <img alt=\"item\" class=\"img-fluid card-img-top image img-responsive\" src=\"/images/test-sites/e-commerce/items/cart2.png\"/>\n",
       " <div class=\"caption\">\n",
       " <h4 class=\"float-end price card-title pull-right\">$603.99</h4>\n",
       " <h4>\n",
       " <a class=\"title\" href=\"/test-sites/e-commerce/allinone/product/30\" title=\"Apple iPad Air\">Apple iPad Air</a>\n",
       " </h4>\n",
       " <p class=\"description card-text\">Wi-Fi, 64GB, Silver</p>\n",
       " </div>\n",
       " <div class=\"ratings\">\n",
       " <p class=\"float-end review-count\">7 reviews</p>\n",
       " <p data-rating=\"3\">\n",
       " <span class=\"ws-icon ws-icon-star\"></span>\n",
       " <span class=\"ws-icon ws-icon-star\"></span>\n",
       " <span class=\"ws-icon ws-icon-star\"></span>\n",
       " </p>\n",
       " </div>\n",
       " </div>\n",
       " </div>\n",
       " </div>]"
      ]
     },
     "execution_count": 85,
     "metadata": {},
     "output_type": "execute_result"
    }
   ],
   "source": [
    "bigbox"
   ]
  },
  {
   "cell_type": "code",
   "execution_count": 88,
   "id": "1e4e9520-c1c3-454d-a24b-fcec5fe7e024",
   "metadata": {},
   "outputs": [
    {
     "data": {
      "text/plain": [
       "21"
      ]
     },
     "execution_count": 88,
     "metadata": {},
     "output_type": "execute_result"
    }
   ],
   "source": [
    "len(bigbox)"
   ]
  },
  {
   "cell_type": "code",
   "execution_count": 92,
   "id": "edded49a-df9a-4fbc-a929-164c37e41d52",
   "metadata": {},
   "outputs": [],
   "source": [
    "product_link = \"https://webscraper.io\" + \"/test-sites/e-commerce/allinone/computers/\"+\"tablets\""
   ]
  },
  {
   "cell_type": "code",
   "execution_count": 93,
   "id": "15f30ade-3716-443a-abde-22cfb4085bcf",
   "metadata": {},
   "outputs": [
    {
     "data": {
      "text/plain": [
       "'https://webscraper.io/test-sites/e-commerce/allinone/computers/tablets'"
      ]
     },
     "execution_count": 93,
     "metadata": {},
     "output_type": "execute_result"
    }
   ],
   "source": [
    "product_link"
   ]
  },
  {
   "cell_type": "code",
   "execution_count": 94,
   "id": "5b66c598-ad9d-4be9-94af-f43e5ae8cfb4",
   "metadata": {},
   "outputs": [],
   "source": [
    "prod_req = requests.get(product_link)"
   ]
  },
  {
   "cell_type": "code",
   "execution_count": 95,
   "id": "e9f0a9a5-0cc7-4cb7-b40b-a9c84be46fc7",
   "metadata": {},
   "outputs": [],
   "source": [
    "prod_html = bs(prod_req.text , 'html.parser')"
   ]
  },
  {
   "cell_type": "code",
   "execution_count": 97,
   "id": "47837fcb-ef50-4b15-a44d-534417a2cc12",
   "metadata": {},
   "outputs": [],
   "source": [
    "prod_name = prod_html.find_all(\"div\",class_=\"col-md-4 col-xl-4 col-lg-4\")"
   ]
  },
  {
   "cell_type": "code",
   "execution_count": 98,
   "id": "3f105640-00bd-4d8c-833e-188b71e22637",
   "metadata": {},
   "outputs": [
    {
     "data": {
      "text/plain": [
       "21"
      ]
     },
     "execution_count": 98,
     "metadata": {},
     "output_type": "execute_result"
    }
   ],
   "source": [
    "len(prod_name)"
   ]
  },
  {
   "cell_type": "code",
   "execution_count": 108,
   "id": "5974e938-d3ee-4a61-b012-b19e0079cb59",
   "metadata": {},
   "outputs": [
    {
     "name": "stdout",
     "output_type": "stream",
     "text": [
      "Lenovo IdeaTab\n",
      "IdeaTab A3500L\n",
      "Acer Iconia\n",
      "Galaxy Tab 3\n",
      "Iconia B1-730H...\n",
      "Memo Pad HD 7\n",
      "Asus MeMO Pad\n",
      "Amazon Kindle\n",
      "Galaxy Tab 3\n",
      "IdeaTab A8-50\n",
      "MeMO Pad 7\n",
      "IdeaTab A3500-...\n",
      "IdeaTab S5000\n",
      "Galaxy Tab 4\n",
      "Galaxy Tab\n",
      "MeMo PAD FHD 1...\n",
      "Galaxy Note\n",
      "Galaxy Note\n",
      "iPad Mini Reti...\n",
      "Galaxy Note 10...\n",
      "Apple iPad Air\n"
     ]
    }
   ],
   "source": [
    "for element in prod_name:\n",
    "    try:\n",
    "        title = element.find(\"a\", class_=\"title\").text\n",
    "        print(title)\n",
    "    except AttributeError:\n",
    "        print(\"Some required attribute not found in this element\")"
   ]
  },
  {
   "cell_type": "code",
   "execution_count": 110,
   "id": "0477f06a-8a2a-4f27-afb0-9c266196db7d",
   "metadata": {},
   "outputs": [
    {
     "name": "stdout",
     "output_type": "stream",
     "text": [
      "7\" screen, Android\n",
      "Black, 7\" IPS, Quad-Core 1.2GHz, 8GB, Android 4.2\n",
      "7\" screen, Android, 16GB\n",
      "7\", 8GB, Wi-Fi, Android 4.2, White\n",
      "Black, 7\", 1.6GHz Dual-Core, 8GB, Android 4.4\n",
      "IPS, Dual-Core 1.2GHz, 8GB, Android 4.3\n",
      "7\" screen, Android, 8GB\n",
      "6\" screen, wifi\n",
      "7\", 8GB, Wi-Fi, Android 4.2, Yellow\n",
      "Blue, 8\" IPS, Quad-Core 1.3GHz, 16GB, Android 4.2\n",
      "White, 7\", Atom 1.2GHz, 8GB, Android 4.4\n",
      "Blue, 7\" IPS, Quad-Core 1.3GHz, 8GB, 3G, Android 4.2\n",
      "Silver, 7\" IPS, Quad-Core 1.2Ghz, 16GB, 3G, Android 4.2\n",
      "LTE (SM-T235), Quad-Core 1.2GHz, 8GB, Black\n",
      "16GB, White\n",
      "White, 10.1\" IPS, 1.6GHz, 2GB, 16GB, Android 4.2\n",
      "10.1\", 3G, Android 4.0, Garnet Red\n",
      "12.2\", 32GB, WiFi, Android 4.4, White\n",
      "Wi-Fi + Cellular, 32GB, Silver\n",
      "10.1\", 32GB, Black\n",
      "Wi-Fi, 64GB, Silver\n"
     ]
    }
   ],
   "source": [
    "for element in prod_name:\n",
    "    try:\n",
    "        title = element.find(\"p\", class_=\"description card-text\").text\n",
    "        print(title)\n",
    "    except AttributeError:\n",
    "        print(\"Some required attribute not found in this element\")"
   ]
  },
  {
   "cell_type": "code",
   "execution_count": 111,
   "id": "9addf0eb-cf44-42ec-bcea-1fe30e6fb0d5",
   "metadata": {},
   "outputs": [
    {
     "name": "stdout",
     "output_type": "stream",
     "text": [
      "7 reviews\n",
      "7 reviews\n",
      "7 reviews\n",
      "2 reviews\n",
      "1 reviews\n",
      "10 reviews\n",
      "14 reviews\n",
      "3 reviews\n",
      "14 reviews\n",
      "13 reviews\n",
      "11 reviews\n",
      "9 reviews\n",
      "8 reviews\n",
      "1 reviews\n",
      "14 reviews\n",
      "7 reviews\n",
      "12 reviews\n",
      "9 reviews\n",
      "8 reviews\n",
      "6 reviews\n",
      "7 reviews\n"
     ]
    }
   ],
   "source": [
    "for element in prod_name:\n",
    "    try:\n",
    "        title = element.find(\"p\", class_=\"float-end review-count\").text\n",
    "        print(title)\n",
    "    except AttributeError:\n",
    "        print(\"Some required attribute not found in this element\")"
   ]
  },
  {
   "cell_type": "code",
   "execution_count": null,
   "id": "105a3920-b701-4b56-b3a1-2d557ac71f0c",
   "metadata": {},
   "outputs": [],
   "source": []
  },
  {
   "cell_type": "code",
   "execution_count": null,
   "id": "2c253f7d-dd58-404f-8330-030bbfa2da65",
   "metadata": {},
   "outputs": [],
   "source": []
  },
  {
   "cell_type": "code",
   "execution_count": null,
   "id": "9c2862ca-78b5-4ff2-86c9-d67b2ffc6380",
   "metadata": {},
   "outputs": [],
   "source": []
  },
  {
   "cell_type": "code",
   "execution_count": 87,
   "id": "65235b3e-4af2-453f-9573-557395dbeec9",
   "metadata": {},
   "outputs": [
    {
     "name": "stdout",
     "output_type": "stream",
     "text": [
      "https://webscraper.io/test-sites/e-commerce/allinone/product/10\n",
      "https://webscraper.io/test-sites/e-commerce/allinone/product/15\n",
      "https://webscraper.io/test-sites/e-commerce/allinone/product/11\n",
      "https://webscraper.io/test-sites/e-commerce/allinone/product/18\n",
      "https://webscraper.io/test-sites/e-commerce/allinone/product/27\n",
      "https://webscraper.io/test-sites/e-commerce/allinone/product/23\n",
      "https://webscraper.io/test-sites/e-commerce/allinone/product/12\n",
      "https://webscraper.io/test-sites/e-commerce/allinone/product/13\n",
      "https://webscraper.io/test-sites/e-commerce/allinone/product/22\n",
      "https://webscraper.io/test-sites/e-commerce/allinone/product/28\n",
      "https://webscraper.io/test-sites/e-commerce/allinone/product/20\n",
      "https://webscraper.io/test-sites/e-commerce/allinone/product/17\n",
      "https://webscraper.io/test-sites/e-commerce/allinone/product/26\n",
      "https://webscraper.io/test-sites/e-commerce/allinone/product/21\n",
      "https://webscraper.io/test-sites/e-commerce/allinone/product/16\n",
      "https://webscraper.io/test-sites/e-commerce/allinone/product/25\n",
      "https://webscraper.io/test-sites/e-commerce/allinone/product/29\n",
      "https://webscraper.io/test-sites/e-commerce/allinone/product/19\n",
      "https://webscraper.io/test-sites/e-commerce/allinone/product/14\n",
      "https://webscraper.io/test-sites/e-commerce/allinone/product/24\n",
      "https://webscraper.io/test-sites/e-commerce/allinone/product/30\n"
     ]
    }
   ],
   "source": [
    "for i in bigbox:\n",
    "    print(\"https://webscraper.io\"+ i.div.div.div.a['href'])"
   ]
  },
  {
   "cell_type": "code",
   "execution_count": null,
   "id": "d8d1bbd4-7087-4b60-a969-7d816e4e721d",
   "metadata": {},
   "outputs": [],
   "source": []
  }
 ],
 "metadata": {
  "kernelspec": {
   "display_name": "Python 3 (ipykernel)",
   "language": "python",
   "name": "python3"
  },
  "language_info": {
   "codemirror_mode": {
    "name": "ipython",
    "version": 3
   },
   "file_extension": ".py",
   "mimetype": "text/x-python",
   "name": "python",
   "nbconvert_exporter": "python",
   "pygments_lexer": "ipython3",
   "version": "3.10.8"
  }
 },
 "nbformat": 4,
 "nbformat_minor": 5
}
